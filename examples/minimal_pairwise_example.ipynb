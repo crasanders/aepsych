{
 "cells": [
  {
   "cell_type": "code",
   "execution_count": null,
   "source": [
    "import numpy as np\n",
    "import torch\n",
    "from aepsych_client import AEPsychClient\n",
    "from aepsych_prerelease.server import AEPsychServer\n",
    "from scipy.special import expit, logit\n",
    "from scipy.stats import bernoulli"
   ],
   "outputs": [],
   "metadata": {}
  },
  {
   "cell_type": "code",
   "execution_count": null,
   "source": [
    "# Define the 75% lse to be where par1_1 - par1_2 + par2_1 - par2_2 = 1\n",
    "def get_response_probability(params):\n",
    "    m = 10\n",
    "    b = logit(0.75) - m\n",
    "    p = expit(m * params.sum(1) + b)\n",
    "    return p"
   ],
   "outputs": [],
   "metadata": {}
  },
  {
   "cell_type": "code",
   "execution_count": null,
   "source": [
    "# Simulate participant responses; returns 1 if the participant detected the stimulus or 0 if they did not.\n",
    "def simulate_response(trial_params):\n",
    "    params = np.array(\n",
    "        [[trial_params[par][0] - trial_params[par][1] for par in trial_params]]\n",
    "    )\n",
    "\n",
    "    p = get_response_probability(params)\n",
    "    response = bernoulli.rvs(p)\n",
    "\n",
    "    return response"
   ],
   "outputs": [],
   "metadata": {}
  },
  {
   "cell_type": "code",
   "execution_count": null,
   "source": [
    "# Fix random seeds\n",
    "np.random.seed(0)\n",
    "torch.manual_seed(0)\n",
    "\n",
    "# Configure the client/server to do pairwise optimization\n",
    "server = AEPsychServer(database_path=\"pairwise_example.db\")\n",
    "client = AEPsychClient(server=server)\n",
    "client.configure(config_path=\"../configs/pairwise_opt_example.ini\")"
   ],
   "outputs": [],
   "metadata": {}
  },
  {
   "cell_type": "code",
   "execution_count": null,
   "source": [
    "# Do the ask/tell loop\n",
    "finished = False\n",
    "while not finished:\n",
    "    # Ask the server what the next parameter values to test should be.\n",
    "    response = client.ask()\n",
    "    trial_params = response[\"config\"]\n",
    "    finished = response[\"is_finished\"]\n",
    "\n",
    "    # Simulate a participant response.\n",
    "    outcome = simulate_response(trial_params)\n",
    "\n",
    "    # Tell the server what happened so that it can update its model.\n",
    "    client.tell(config=trial_params, outcome=outcome)\n",
    "\n",
    "# Finish the experiment\n",
    "client.finalize()"
   ],
   "outputs": [],
   "metadata": {}
  }
 ],
 "metadata": {
  "orig_nbformat": 4,
  "language_info": {
   "name": "python"
  }
 },
 "nbformat": 4,
 "nbformat_minor": 2
}